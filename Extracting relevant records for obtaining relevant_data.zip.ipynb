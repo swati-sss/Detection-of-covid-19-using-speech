{
 "cells": [
  {
   "cell_type": "markdown",
   "id": "98d5db51",
   "metadata": {},
   "source": [
    "# Exploring the metadata and test_status of the patients to extract the relevant samples "
   ]
  },
  {
   "cell_type": "code",
   "execution_count": 1,
   "id": "d8c8610d",
   "metadata": {},
   "outputs": [
    {
     "name": "stdout",
     "output_type": "stream",
     "text": [
      "                                id   a                 covid_status  \\\n",
      "28    9hXEs9OejdVxG6JJGCyKQpqVvy43  67            positive_moderate   \n",
      "29    dPi1G2i821MDlbBUQWboTaExz023  24                      healthy   \n",
      "30    TqZXC5KdCZOC4T7p69TUNnU9abD3  81  resp_illness_not_identified   \n",
      "31    356wSucV0OV6VQMvozjX63pIXrH2  24      no_resp_illness_exposed   \n",
      "32    OPOiHCtB3WXhEdnsofhMpnP8bak1  38               recovered_full   \n",
      "...                            ...  ..                          ...   \n",
      "2741  333NjqA1TfZJuICEdXSkPhVz0LA3  48               positive_asymp   \n",
      "2742  dpA0EeRrtJUeKJjEuf7BL0AeTJZ2  36                positive_mild   \n",
      "2743  UXhG3vgoxkWtd4Meky1nm0sRgMV2  76                positive_mild   \n",
      "2744  A5KW9PXraNgckln1gnNaJnX6DvB2  25            positive_moderate   \n",
      "2745  iYwmYc9CdlSuzqGwIlXNWI6eFpm1  78                positive_mild   \n",
      "\n",
      "     record_date ep       g    l_c              l_l         l_s rU  ... vacc  \\\n",
      "28    2021-07-19  y    male  India  Annur coimbator  Tamil Nadu  n  ...    n   \n",
      "29    2021-08-16  y    male  India       Coimbatore  Tamil Nadu  n  ...    y   \n",
      "30    2021-08-16  n    male  India       Coimbatore  Tamil Nadu  n  ...    y   \n",
      "31    2021-07-28  y    male  India         Khagaria       Bihar  n  ...    n   \n",
      "32    2021-07-15  y    male  India       Coimbatore  Tamil Nadu  n  ...    p   \n",
      "...          ... ..     ...    ...              ...         ... ..  ...  ...   \n",
      "2741  2021-07-13  y    male  India     Thondamuthur  Tamil Nadu  n  ...    p   \n",
      "2742  2021-07-06  y    male  India            MSRMC   Karnataka  n  ...    p   \n",
      "2743  2021-07-13  y    male  India       Coimbatore  Tamil Nadu  n  ...    y   \n",
      "2744  2021-07-01  y    male  India       Coimbatore  Tamil Nadu  n  ...    p   \n",
      "2745  2021-07-06  y  female  India            Msrmc   Karnataka  n  ...    p   \n",
      "\n",
      "        bd others_resp   ftg   st  ihd asthma  others_preexist  cld pneumonia  \n",
      "28     NaN         NaN   NaN  NaN  NaN    NaN              NaN  NaN       NaN  \n",
      "29     NaN         NaN   NaN  NaN  NaN    NaN              NaN  NaN       NaN  \n",
      "30    True        True   NaN  NaN  NaN    NaN              NaN  NaN       NaN  \n",
      "31    True         NaN  True  NaN  NaN    NaN              NaN  NaN       NaN  \n",
      "32     NaN         NaN   NaN  NaN  NaN    NaN              NaN  NaN       NaN  \n",
      "...    ...         ...   ...  ...  ...    ...              ...  ...       ...  \n",
      "2741   NaN         NaN  True  NaN  NaN    NaN              NaN  NaN       NaN  \n",
      "2742   NaN         NaN   NaN  NaN  NaN    NaN              NaN  NaN       NaN  \n",
      "2743   NaN         NaN  True  NaN  NaN    NaN              NaN  NaN       NaN  \n",
      "2744   NaN         NaN   NaN  NaN  NaN    NaN              NaN  NaN       NaN  \n",
      "2745   NaN         NaN  True  NaN  NaN    NaN              NaN  NaN       NaN  \n",
      "\n",
      "[1333 rows x 36 columns]\n"
     ]
    }
   ],
   "source": [
    "import pandas as pd\n",
    "csv_file_path = 'combined_data.csv'  \n",
    "df = pd.read_csv(csv_file_path)\n",
    "desired_test_statuses = ['ut', 'p', 'na', 'n']\n",
    "filtered_df = df[df['test_status'].isin(desired_test_statuses)]\n",
    "print(filtered_df)\n",
    "filtered_csv_file_path = 'filtered_data.csv'\n",
    "filtered_df.to_csv(filtered_csv_file_path, index=False)\n"
   ]
  }
 ],
 "metadata": {
  "kernelspec": {
   "display_name": "Python 3 (ipykernel)",
   "language": "python",
   "name": "python3"
  },
  "language_info": {
   "codemirror_mode": {
    "name": "ipython",
    "version": 3
   },
   "file_extension": ".py",
   "mimetype": "text/x-python",
   "name": "python",
   "nbconvert_exporter": "python",
   "pygments_lexer": "ipython3",
   "version": "3.10.7"
  }
 },
 "nbformat": 4,
 "nbformat_minor": 5
}
