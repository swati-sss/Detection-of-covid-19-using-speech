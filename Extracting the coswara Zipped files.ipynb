{
 "cells": [
  {
   "cell_type": "markdown",
   "id": "b7904ad7",
   "metadata": {},
   "source": [
    "# Code provided by IISC coswara repository to unzip the data.\n",
    "## Find the Data here: https://github.com/iiscleap/Coswara-Data"
   ]
  },
  {
   "cell_type": "code",
   "execution_count": 1,
   "id": "181b717f",
   "metadata": {},
   "outputs": [
    {
     "name": "stdout",
     "output_type": "stream",
     "text": [
      "Extraction process complete!\n"
     ]
    }
   ],
   "source": [
    "import os\n",
    "import sys\n",
    "import subprocess\n",
    "import numpy as np\n",
    "import glob\n",
    "import json\n",
    "import pandas as pd\n",
    "\n",
    "'''\n",
    "This script creates a folder \"Extracted_data\" inside which it extracts all the wav files in the directories date-wise\n",
    "'''\n",
    "\n",
    "coswara_data_dir = os.path.abspath('.') # Local Path of iiscleap/Coswara-Data Repo\n",
    "extracted_data_dir = os.path.join(coswara_data_dir, 'Extracted_data')  \n",
    "\n",
    "if not os.path.exists(coswara_data_dir):\n",
    "    raise(\"Check the Coswara dataset directory!\")\n",
    "\n",
    "if not os.path.exists(extracted_data_dir):\n",
    "    os.makedirs(extracted_data_dir) # Creates the Extracted_data folder if it doesn't exist\n",
    "\n",
    "dirs_extracted = set(map(os.path.basename,glob.glob('{}/202*'.format(extracted_data_dir))))\n",
    "dirs_all = set(map(os.path.basename,glob.glob('{}/202*'.format(coswara_data_dir))))\n",
    "\n",
    "dirs_to_extract = list(set(dirs_all) - dirs_extracted)\n",
    "\n",
    "for d in dirs_to_extract:\n",
    "    p = subprocess.Popen('cat {}/{}/*.tar.gz.* |tar -xvz -C {}/'.format(coswara_data_dir, d, extracted_data_dir), shell=True)\n",
    "    p.wait()\n",
    "print(\"Extraction process complete!\")\n"
   ]
  }
 ],
 "metadata": {
  "kernelspec": {
   "display_name": "Python 3 (ipykernel)",
   "language": "python",
   "name": "python3"
  },
  "language_info": {
   "codemirror_mode": {
    "name": "ipython",
    "version": 3
   },
   "file_extension": ".py",
   "mimetype": "text/x-python",
   "name": "python",
   "nbconvert_exporter": "python",
   "pygments_lexer": "ipython3",
   "version": "3.10.7"
  }
 },
 "nbformat": 4,
 "nbformat_minor": 5
}
